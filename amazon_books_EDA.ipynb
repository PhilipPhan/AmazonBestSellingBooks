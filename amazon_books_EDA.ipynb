{
 "metadata": {
  "language_info": {
   "codemirror_mode": {
    "name": "ipython",
    "version": 3
   },
   "file_extension": ".py",
   "mimetype": "text/x-python",
   "name": "python",
   "nbconvert_exporter": "python",
   "pygments_lexer": "ipython3",
   "version": "3.8.5-final"
  },
  "orig_nbformat": 2,
  "kernelspec": {
   "name": "python3",
   "display_name": "Python 3.8.5 64-bit ('base': conda)",
   "metadata": {
    "interpreter": {
     "hash": "a6db760ec1f746233879b21bd0bb052e4a49cc5e61a6067b74cd35b14c04703f"
    }
   }
  }
 },
 "nbformat": 4,
 "nbformat_minor": 2,
 "cells": [
  {
   "source": [
    "## Goal of The Project\n"
   ],
   "cell_type": "markdown",
   "metadata": {}
  },
  {
   "cell_type": "code",
   "execution_count": 1,
   "metadata": {},
   "outputs": [],
   "source": [
    "#Importing Libraries\n",
    "# import libraries\n",
    "import pandas as pd\n",
    "import numpy as np\n",
    "import matplotlib.pyplot as plt \n",
    "import seaborn as sns\n",
    "from scipy.stats import ttest_1samp\n",
    "from scipy.stats import ttest_ind\n",
    "from scipy.stats import f_oneway\n",
    "from statsmodels.stats.multicomp import pairwise_tukeyhsd\n",
    "from scipy.stats import chi2_contingency"
   ]
  },
  {
   "cell_type": "code",
   "execution_count": 10,
   "metadata": {},
   "outputs": [
    {
     "output_type": "stream",
     "name": "stdout",
     "text": [
      "Index(['Name', 'Author', 'User Rating', 'Reviews', 'Price', 'Year', 'Genre'], dtype='object')\nIndex(['name', 'author', 'rating', 'reviews', 'price', 'year', 'genre'], dtype='object')\n                                                name  \\\n0                      10-Day Green Smoothie Cleanse   \n1                                  11/22/63: A Novel   \n2            12 Rules for Life: An Antidote to Chaos   \n3                             1984 (Signet Classics)   \n4  5,000 Awesome Facts (About Everything!) (Natio...   \n\n                     author  rating  reviews  price  year        genre  \n0                  JJ Smith     4.7    17350      8  2016  Non Fiction  \n1              Stephen King     4.6     2052     22  2011      Fiction  \n2        Jordan B. Peterson     4.7    18979     15  2018  Non Fiction  \n3             George Orwell     4.7    21424      6  2017      Fiction  \n4  National Geographic Kids     4.8     7665     12  2019  Non Fiction  \n550\n"
     ]
    }
   ],
   "source": [
    "#reading, renaming and peeking through the data\n",
    "df = pd.read_csv('amazon.csv')\n",
    "print(df.columns)\n",
    "df = df.rename(columns={'Name':'name','Author':'author','User Rating':\"rating\",'Reviews':'reviews', 'Price':'price','Year':'year', 'Genre':'genre'})\n",
    "print(df.columns)\n",
    "print(df.head())\n",
    "print(len(df))\n"
   ]
  },
  {
   "cell_type": "code",
   "execution_count": 17,
   "metadata": {},
   "outputs": [
    {
     "output_type": "display_data",
     "data": {
      "text/plain": "<Figure size 432x288 with 1 Axes>",
      "image/svg+xml": "<?xml version=\"1.0\" encoding=\"utf-8\" standalone=\"no\"?>\n<!DOCTYPE svg PUBLIC \"-//W3C//DTD SVG 1.1//EN\"\n  \"http://www.w3.org/Graphics/SVG/1.1/DTD/svg11.dtd\">\n<!-- Created with matplotlib (https://matplotlib.org/) -->\n<svg height=\"231.84pt\" version=\"1.1\" viewBox=\"0 0 231.84 231.84\" width=\"231.84pt\" xmlns=\"http://www.w3.org/2000/svg\" xmlns:xlink=\"http://www.w3.org/1999/xlink\">\n <metadata>\n  <rdf:RDF xmlns:cc=\"http://creativecommons.org/ns#\" xmlns:dc=\"http://purl.org/dc/elements/1.1/\" xmlns:rdf=\"http://www.w3.org/1999/02/22-rdf-syntax-ns#\">\n   <cc:Work>\n    <dc:type rdf:resource=\"http://purl.org/dc/dcmitype/StillImage\"/>\n    <dc:date>2021-03-27T22:16:24.825270</dc:date>\n    <dc:format>image/svg+xml</dc:format>\n    <dc:creator>\n     <cc:Agent>\n      <dc:title>Matplotlib v3.3.2, https://matplotlib.org/</dc:title>\n     </cc:Agent>\n    </dc:creator>\n   </cc:Work>\n  </rdf:RDF>\n </metadata>\n <defs>\n  <style type=\"text/css\">*{stroke-linecap:butt;stroke-linejoin:round;}</style>\n </defs>\n <g id=\"figure_1\">\n  <g id=\"patch_1\">\n   <path d=\"M 0 231.84 \nL 231.84 231.84 \nL 231.84 0 \nL 0 0 \nz\n\" style=\"fill:none;\"/>\n  </g>\n  <g id=\"axes_1\">\n   <g id=\"patch_2\">\n    <path d=\"M 202.896 115.92 \nC 202.896 103.033685 200.032156 90.306979 194.512152 78.66281 \nC 188.992148 67.018641 180.952724 56.745457 170.976891 48.588259 \nC 161.001059 40.431062 149.335937 34.591919 136.82747 31.49428 \nC 124.319003 28.396641 111.277048 28.11724 98.647396 30.676339 \nC 86.017743 33.235438 74.113253 38.569644 63.797226 46.292125 \nC 53.481199 54.014606 45.009184 63.934061 38.995562 75.331143 \nC 32.981939 86.728224 29.575679 99.320604 29.023799 112.195096 \nC 28.47192 125.069588 30.788092 137.907267 35.804349 149.777156 \nL 115.92 115.92 \nL 202.896 115.92 \nz\n\" style=\"fill:#1f77b4;\"/>\n   </g>\n   <g id=\"patch_3\">\n    <path d=\"M 35.804349 149.777156 \nC 43.614906 168.259153 57.585332 183.480936 75.331143 192.844438 \nC 93.076953 202.207941 113.52762 205.148303 133.192604 201.163661 \nC 152.857589 197.179019 170.550586 186.509749 183.251741 170.976891 \nC 195.952895 155.444034 202.896 135.98462 202.896 115.92 \nL 115.92 115.92 \nL 35.804349 149.777156 \nz\n\" style=\"fill:#ff7f0e;\"/>\n   </g>\n   <g id=\"matplotlib.axis_1\"/>\n   <g id=\"matplotlib.axis_2\"/>\n  </g>\n </g>\n</svg>\n",
      "image/png": "[encoded data removed]"
     },
     "metadata": {}
    }
   ],
   "source": [
    "# pie chart comparing fiction and non fiction each year\n",
    "nonfic = len(df[df.genre =='Non Fiction'])\n",
    "fic = len(df[df.genre =='Fiction'])\n",
    "data = [nonfic,fic]\n",
    "\n",
    "plt.pie(data)\n",
    "plt.show()"
   ]
  },
  {
   "cell_type": "code",
   "execution_count": null,
   "metadata": {},
   "outputs": [],
   "source": [
    "# seeing reviews per price scatter"
   ]
  },
  {
   "cell_type": "code",
   "execution_count": null,
   "metadata": {},
   "outputs": [],
   "source": [
    "#  bar graph average price per year and analysis"
   ]
  },
  {
   "cell_type": "code",
   "execution_count": null,
   "metadata": {},
   "outputs": [],
   "source": [
    "# seeing authors price"
   ]
  }
 ]
}